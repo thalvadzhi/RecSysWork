{
 "cells": [
  {
   "cell_type": "markdown",
   "metadata": {},
   "source": [
    "Първо започвам с User-User и Item-Item CF"
   ]
  },
  {
   "cell_type": "code",
   "execution_count": 2,
   "metadata": {
    "collapsed": false
   },
   "outputs": [],
   "source": [
    "from surprise import SVD\n",
    "from surprise import Dataset\n",
    "from surprise.model_selection import cross_validate\n",
    "from surprise.model_selection import train_test_split\n",
    "import numpy as np\n",
    "import pandas as pd\n",
    "from sklearn import cross_validation as cv"
   ]
  },
  {
   "cell_type": "code",
   "execution_count": 3,
   "metadata": {
    "collapsed": false,
    "scrolled": true
   },
   "outputs": [
    {
     "name": "stdout",
     "output_type": "stream",
     "text": [
      "users= 6040\n",
      "items= 3706\n",
      "ratings= 1000209\n"
     ]
    }
   ],
   "source": [
    "ml_df = pd.read_csv('datasets/ml-1m/ratings.dat', sep='::',names=[\"userId\", \"itemId\", \"rating\", \"timestamp\"], engine='python')\n",
    "\n",
    "print(\"users=\" ,len(ml_df[\"userId\"].unique()))\n",
    "print(\"items=\" ,len(ml_df[\"itemId\"].unique()))\n",
    "print(\"ratings=\", len(ml_df))"
   ]
  },
  {
   "cell_type": "code",
   "execution_count": 4,
   "metadata": {
    "collapsed": false
   },
   "outputs": [
    {
     "data": {
      "text/html": [
       "<div>\n",
       "<style scoped>\n",
       "    .dataframe tbody tr th:only-of-type {\n",
       "        vertical-align: middle;\n",
       "    }\n",
       "\n",
       "    .dataframe tbody tr th {\n",
       "        vertical-align: top;\n",
       "    }\n",
       "\n",
       "    .dataframe thead th {\n",
       "        text-align: right;\n",
       "    }\n",
       "</style>\n",
       "<table border=\"1\" class=\"dataframe\">\n",
       "  <thead>\n",
       "    <tr style=\"text-align: right;\">\n",
       "      <th></th>\n",
       "      <th>userId</th>\n",
       "      <th>itemId</th>\n",
       "      <th>rating</th>\n",
       "      <th>timestamp</th>\n",
       "    </tr>\n",
       "  </thead>\n",
       "  <tbody>\n",
       "    <tr>\n",
       "      <th>0</th>\n",
       "      <td>1</td>\n",
       "      <td>1193</td>\n",
       "      <td>5</td>\n",
       "      <td>978300760</td>\n",
       "    </tr>\n",
       "    <tr>\n",
       "      <th>1</th>\n",
       "      <td>1</td>\n",
       "      <td>661</td>\n",
       "      <td>3</td>\n",
       "      <td>978302109</td>\n",
       "    </tr>\n",
       "    <tr>\n",
       "      <th>2</th>\n",
       "      <td>1</td>\n",
       "      <td>914</td>\n",
       "      <td>3</td>\n",
       "      <td>978301968</td>\n",
       "    </tr>\n",
       "    <tr>\n",
       "      <th>3</th>\n",
       "      <td>1</td>\n",
       "      <td>3408</td>\n",
       "      <td>4</td>\n",
       "      <td>978300275</td>\n",
       "    </tr>\n",
       "    <tr>\n",
       "      <th>4</th>\n",
       "      <td>1</td>\n",
       "      <td>2355</td>\n",
       "      <td>5</td>\n",
       "      <td>978824291</td>\n",
       "    </tr>\n",
       "  </tbody>\n",
       "</table>\n",
       "</div>"
      ],
      "text/plain": [
       "   userId  itemId  rating  timestamp\n",
       "0       1    1193       5  978300760\n",
       "1       1     661       3  978302109\n",
       "2       1     914       3  978301968\n",
       "3       1    3408       4  978300275\n",
       "4       1    2355       5  978824291"
      ]
     },
     "execution_count": 4,
     "metadata": {},
     "output_type": "execute_result"
    }
   ],
   "source": [
    "ml_df.head()"
   ]
  },
  {
   "cell_type": "markdown",
   "metadata": {},
   "source": [
    "Да създадем матрицата User-Item"
   ]
  },
  {
   "cell_type": "code",
   "execution_count": 6,
   "metadata": {
    "collapsed": false
   },
   "outputs": [],
   "source": [
    "n_users_ml = ml_df[\"userId\"].unique().shape[0]\n",
    "#some itemIds are missing so I use max because there are higher values for ids than there are unique ids\n",
    "n_items_ml = ml_df[\"itemId\"].max()"
   ]
  },
  {
   "cell_type": "code",
   "execution_count": 4,
   "metadata": {
    "collapsed": true
   },
   "outputs": [],
   "source": [
    "def build_matrix(n_users, n_items, df):\n",
    "    matrix = np.zeros((n_users, n_items))\n",
    "    for uid, iid, rating, _ in df.itertuples(index=False, name=None):\n",
    "        matrix[uid - 1, iid - 1] = rating\n",
    "    return matrix"
   ]
  },
  {
   "cell_type": "code",
   "execution_count": 8,
   "metadata": {
    "collapsed": false
   },
   "outputs": [],
   "source": [
    "train_data, test_data = cv.train_test_split(ml_df, test_size=0.25)"
   ]
  },
  {
   "cell_type": "code",
   "execution_count": 9,
   "metadata": {
    "collapsed": false
   },
   "outputs": [
    {
     "data": {
      "text/plain": [
       "(1, 1193, 5, 978300760)"
      ]
     },
     "execution_count": 9,
     "metadata": {},
     "output_type": "execute_result"
    }
   ],
   "source": [
    "tuple(ml_df.itertuples(index=False, name=None))[0]"
   ]
  },
  {
   "cell_type": "code",
   "execution_count": 10,
   "metadata": {
    "collapsed": false
   },
   "outputs": [],
   "source": [
    "ml_mat_train = build_matrix(n_users_ml, n_items_ml, train_data)\n",
    "ml_mat_test = build_matrix(n_users_ml, n_items_ml, test_data)"
   ]
  },
  {
   "cell_type": "code",
   "execution_count": 5,
   "metadata": {
    "collapsed": true
   },
   "outputs": [],
   "source": [
    "from sklearn.metrics.pairwise import pairwise_distances"
   ]
  },
  {
   "cell_type": "code",
   "execution_count": 77,
   "metadata": {
    "collapsed": false
   },
   "outputs": [],
   "source": [
    "# similarity matrix between every user and every other user\n",
    "user_similarity_cos = pairwise_distances(ml_mat_train, metric='cosine')\n",
    "#similarity matrix between every item and every other item\n",
    "item_similarity_cos = pairwise_distances(ml_mat_train.T, metric='cosine')\n",
    "# adjust for numerical instability\n",
    "eps = 1e-10\n",
    "user_similarity_corel = pairwise_distances(ml_mat_train, metric='correlation')\n",
    "item_similarity_corel = pairwise_distances(ml_mat_train.T, metric='correlation') + eps"
   ]
  },
  {
   "cell_type": "code",
   "execution_count": 13,
   "metadata": {
    "collapsed": false
   },
   "outputs": [
    {
     "data": {
      "text/plain": [
       "(3952, 3952)"
      ]
     },
     "execution_count": 13,
     "metadata": {},
     "output_type": "execute_result"
    }
   ],
   "source": [
    "item_similarity_cos.shape"
   ]
  },
  {
   "cell_type": "code",
   "execution_count": 6,
   "metadata": {
    "collapsed": true
   },
   "outputs": [],
   "source": [
    "def predict_user_user(ratings_mat, similarities_mat):\n",
    "    #contains the means for each user\n",
    "    mean_ratings = (np.sum(ratings_mat, axis=1) / np.sum(ratings_mat != 0, axis=1)).reshape(-1, 1)\n",
    "    rate_minus_mean = ratings_mat - mean_ratings\n",
    "    # adjust to be closer to global mean, otherwise yields way to low of a prediction\n",
    "    mean = np.sum(ratings_mat) / np.sum(ratings_mat != 0)\n",
    "    pred = mean + mean_ratings + (similarities_mat @ rate_minus_mean) / np.sum(similarities_mat, axis=1).reshape(-1, 1)\n",
    "    pred = np.nan_to_num(pred)\n",
    "    pred[pred > 5] = 5\n",
    "    pred[pred < 0] = 0\n",
    "    return pred"
   ]
  },
  {
   "cell_type": "code",
   "execution_count": 7,
   "metadata": {
    "collapsed": true
   },
   "outputs": [],
   "source": [
    "def predict_item_item(ratings_mat, similarities_mat):\n",
    "    # adjust to be closer to global mean, otherwise yields way to low of a prediction\n",
    "    mean = np.sum(ratings_mat) / np.sum(ratings_mat !=0)\n",
    "    pred = mean + (ratings_mat @ similarities_mat) / np.sum(similarities_mat, axis=1)\n",
    "    pred = np.nan_to_num(pred)\n",
    "    pred[pred > 5] = 5\n",
    "    pred[pred < 0] = 0\n",
    "    return pred"
   ]
  },
  {
   "cell_type": "code",
   "execution_count": 80,
   "metadata": {
    "collapsed": false
   },
   "outputs": [],
   "source": [
    "predicted_user_cos = predict_user_user(ml_mat_train, user_similarity_cos)\n",
    "predicted_item_cos = predict_item_item(ml_mat_train, item_similarity_cos)"
   ]
  },
  {
   "cell_type": "code",
   "execution_count": 78,
   "metadata": {
    "collapsed": false
   },
   "outputs": [],
   "source": [
    "predicted_user_corel = predict_user_user(ml_mat_train, user_similarity_corel)\n",
    "predicted_item_corel = predict_item_item(ml_mat_train, item_similarity_corel)"
   ]
  },
  {
   "cell_type": "code",
   "execution_count": 9,
   "metadata": {
    "collapsed": true
   },
   "outputs": [],
   "source": [
    "from sklearn.metrics import mean_squared_error\n",
    "from math import sqrt"
   ]
  },
  {
   "cell_type": "code",
   "execution_count": 8,
   "metadata": {
    "collapsed": true
   },
   "outputs": [],
   "source": [
    "def rmse(prediction, real_values):\n",
    "    # only predict for the ones we have info for\n",
    "    prediction = prediction[real_values > 0].flatten()\n",
    "    real_values = real_values[real_values > 0].flatten()\n",
    "    return sqrt(mean_squared_error(prediction, real_values))"
   ]
  },
  {
   "cell_type": "code",
   "execution_count": 20,
   "metadata": {
    "collapsed": false
   },
   "outputs": [
    {
     "data": {
      "text/plain": [
       "(6040, 3952)"
      ]
     },
     "execution_count": 20,
     "metadata": {},
     "output_type": "execute_result"
    }
   ],
   "source": [
    "ml_mat_train.shape"
   ]
  },
  {
   "cell_type": "code",
   "execution_count": 21,
   "metadata": {
    "collapsed": false
   },
   "outputs": [
    {
     "data": {
      "text/plain": [
       "0.03142662278467437"
      ]
     },
     "execution_count": 21,
     "metadata": {},
     "output_type": "execute_result"
    }
   ],
   "source": [
    "np.count_nonzero(ml_mat_train) / (ml_mat_train.shape[0] * ml_mat_train.shape[1])"
   ]
  },
  {
   "cell_type": "markdown",
   "metadata": {},
   "source": [
    "Матрицата е доста sparse, само 3% от клетките имат стойност"
   ]
  },
  {
   "cell_type": "markdown",
   "metadata": {},
   "source": [
    "Да видим каква точност има при използване на косинусова мярка"
   ]
  },
  {
   "cell_type": "code",
   "execution_count": 81,
   "metadata": {
    "collapsed": false
   },
   "outputs": [
    {
     "name": "stdout",
     "output_type": "stream",
     "text": [
      "RMSE, cos similarity user-user 1.0281190075203948: \n"
     ]
    }
   ],
   "source": [
    "print(\"RMSE, cos similarity user-user {0}: \".format(rmse(predicted_user_cos, ml_mat_test)))"
   ]
  },
  {
   "cell_type": "code",
   "execution_count": 82,
   "metadata": {
    "collapsed": false
   },
   "outputs": [
    {
     "name": "stdout",
     "output_type": "stream",
     "text": [
      "RMSE, cos similarity item-item 1.1713039998829857: \n"
     ]
    }
   ],
   "source": [
    "print(\"RMSE, cos similarity item-item {0}: \".format(rmse(predicted_item_cos, ml_mat_test)))"
   ]
  },
  {
   "cell_type": "markdown",
   "metadata": {},
   "source": [
    "И сега при използване на корелация."
   ]
  },
  {
   "cell_type": "code",
   "execution_count": 79,
   "metadata": {
    "collapsed": false
   },
   "outputs": [
    {
     "name": "stdout",
     "output_type": "stream",
     "text": [
      "RMSE, corel similarity user-user 1.0294121757208563: \n",
      "RMSE, corel similarity item-item 1.1809365719690117: \n"
     ]
    }
   ],
   "source": [
    "print(\"RMSE, corel similarity user-user {0}: \".format(rmse(predicted_user_corel, ml_mat_test)))\n",
    "print(\"RMSE, corel similarity item-item {0}: \".format(rmse(predicted_item_corel, ml_mat_test)))"
   ]
  },
  {
   "cell_type": "markdown",
   "metadata": {},
   "source": [
    "С косинусова мярка резултатът е малко по-добър."
   ]
  },
  {
   "cell_type": "markdown",
   "metadata": {},
   "source": [
    "Да опитаме да предричаме само с top k най близки съседи"
   ]
  },
  {
   "cell_type": "code",
   "execution_count": 61,
   "metadata": {
    "collapsed": false
   },
   "outputs": [
    {
     "data": {
      "text/plain": [
       "array([[ 5.,  0.,  0., ...,  0.,  0.,  0.],\n",
       "       [ 0.,  0.,  0., ...,  0.,  0.,  0.],\n",
       "       [ 0.,  0.,  0., ...,  0.,  0.,  0.],\n",
       "       ..., \n",
       "       [ 0.,  0.,  0., ...,  0.,  0.,  0.],\n",
       "       [ 0.,  0.,  0., ...,  0.,  0.,  0.],\n",
       "       [ 0.,  0.,  0., ...,  0.,  0.,  0.]])"
      ]
     },
     "execution_count": 61,
     "metadata": {},
     "output_type": "execute_result"
    }
   ],
   "source": [
    "ml_mat_train"
   ]
  },
  {
   "cell_type": "code",
   "execution_count": 10,
   "metadata": {
    "collapsed": true
   },
   "outputs": [],
   "source": [
    "def predict_user_user_top_k(ratings_mat, similarities_mat, k):\n",
    "    n_users = similarities_mat.shape[0]\n",
    "    # mark the non top k with zeros\n",
    "    lowest_n_minus_k_idxs = np.argsort(similarities_mat, axis=1)[:, range(0, n_users-k)]\n",
    "    row_idx = np.array([[i] * (n_users-k) for i in range(n_users)])\n",
    "    top_k_sims = similarities_mat.copy()\n",
    "    top_k_sims[row_idx, lowest_n_minus_k_idxs] = 0\n",
    "    mean_ratings = (np.sum(ratings_mat, axis=1) / np.sum(ratings_mat != 0, axis=1)).reshape(-1, 1)\n",
    "    rate_minus_mean = ratings_mat - mean_ratings\n",
    "    mean = np.sum(ratings_mat) / np.sum(ratings_mat != 0)\n",
    "    pred = mean + mean_ratings + (top_k_sims @ rate_minus_mean) / np.sum(top_k_sims, axis=1).reshape(-1, 1)\n",
    "    pred[pred > 5] = 5\n",
    "    pred[pred < 0] = 0\n",
    "    return pred\n"
   ]
  },
  {
   "cell_type": "code",
   "execution_count": 165,
   "metadata": {
    "collapsed": false
   },
   "outputs": [],
   "source": [
    "predicted_user_cos_top_k = predict_user_user_top_k(ml_mat_train, user_similarity_cos, 100)"
   ]
  },
  {
   "cell_type": "code",
   "execution_count": 166,
   "metadata": {
    "collapsed": false
   },
   "outputs": [
    {
     "name": "stdout",
     "output_type": "stream",
     "text": [
      "RMSE, cos similarity user-user top k 1.037867862055211: \n"
     ]
    }
   ],
   "source": [
    "print(\"RMSE, cos similarity user-user top k {0}: \".format(rmse(predicted_user_cos_top_k, ml_mat_test)))"
   ]
  },
  {
   "cell_type": "code",
   "execution_count": 93,
   "metadata": {
    "collapsed": true
   },
   "outputs": [],
   "source": [
    "def find_best_k():\n",
    "    ks = [10, 20, 50, 100, 150, 200, 500, 1000]\n",
    "    errors = []\n",
    "    for k in ks:\n",
    "        print(\"k={0}\".format(k))\n",
    "        prediction = predict_user_user_top_k(ml_mat_train, user_similarity_cos, k)\n",
    "        errors.append(rmse(prediction, ml_mat_test))\n",
    "    return ks, errors"
   ]
  },
  {
   "cell_type": "code",
   "execution_count": 94,
   "metadata": {
    "collapsed": false
   },
   "outputs": [
    {
     "name": "stdout",
     "output_type": "stream",
     "text": [
      "k=10\n",
      "k=20\n",
      "k=50\n",
      "k=100\n",
      "k=150\n",
      "k=200\n",
      "k=500\n",
      "k=1000\n"
     ]
    }
   ],
   "source": [
    "ks, errors = find_best_k()"
   ]
  },
  {
   "cell_type": "code",
   "execution_count": 95,
   "metadata": {
    "collapsed": false
   },
   "outputs": [
    {
     "data": {
      "image/png": "[encoded data removed]",
      "text/plain": [
       "<matplotlib.figure.Figure at 0x28535a35390>"
      ]
     },
     "metadata": {},
     "output_type": "display_data"
    }
   ],
   "source": [
    "import matplotlib.pyplot as plt\n",
    "%matplotlib inline\n",
    "plt.plot(ks, errors)\n",
    "plt.show()"
   ]
  },
  {
   "cell_type": "markdown",
   "metadata": {},
   "source": [
    "Грешката се влоши и клони към грешката без използване на топ к, при k -> броя потребители."
   ]
  },
  {
   "cell_type": "markdown",
   "metadata": {},
   "source": [
    "Време е да опитаме с SVD"
   ]
  },
  {
   "cell_type": "code",
   "execution_count": 53,
   "metadata": {
    "collapsed": true
   },
   "outputs": [],
   "source": [
    "from surprise import Dataset\n",
    "from surprise import Reader"
   ]
  },
  {
   "cell_type": "code",
   "execution_count": 56,
   "metadata": {
    "collapsed": false
   },
   "outputs": [],
   "source": [
    "\n",
    "reader = Reader(rating_scale=(1, 5))\n",
    "data = Dataset.load_from_df(ml_df[[\"userId\", \"itemId\", \"rating\"]], reader)\n",
    "\n",
    "trainset, testset = train_test_split(data, test_size=.25)"
   ]
  },
  {
   "cell_type": "code",
   "execution_count": 46,
   "metadata": {
    "collapsed": true
   },
   "outputs": [],
   "source": [
    "from surprise import accuracy"
   ]
  },
  {
   "cell_type": "code",
   "execution_count": 56,
   "metadata": {
    "collapsed": false
   },
   "outputs": [
    {
     "name": "stdout",
     "output_type": "stream",
     "text": [
      "RMSE: 0.8799\n"
     ]
    },
    {
     "data": {
      "text/plain": [
       "0.87991576132204685"
      ]
     },
     "execution_count": 56,
     "metadata": {},
     "output_type": "execute_result"
    }
   ],
   "source": [
    "algo = SVD()\n",
    "algo.fit(trainset)\n",
    "predictions = algo.test(testset)\n",
    "\n",
    "# Then compute RMSE\n",
    "accuracy.rmse(predictions)"
   ]
  },
  {
   "cell_type": "code",
   "execution_count": 91,
   "metadata": {
    "collapsed": false
   },
   "outputs": [],
   "source": [
    "import math\n",
    "factors = [100, 150, 200]\n",
    "epochs = [20, 30]\n",
    "learning_rates = [0.001, 0.005, 0.01]\n",
    "regularization = [0.02, 0.01, 0.001, 0.0001]\n",
    "\n",
    "def tune_parameters():\n",
    "    best_err = math.inf\n",
    "    best_params = ()\n",
    "    for n_factors in factors:\n",
    "        for epoch in epochs:\n",
    "            for lr in learning_rates:\n",
    "                for reg in regularization:\n",
    "                    svd = SVD(n_factors=n_factors, n_epochs=epoch, lr_all=lr, reg_all=reg)\n",
    "                    svd.fit(trainset)\n",
    "                    pred = svd.test(testset)\n",
    "                    err = accuracy.rmse(pred, verbose=False)\n",
    "                    print(\"factors={0}, epochs={1}, lr={2}, reg={3}, err={4}\".format(n_factors, epoch, lr, reg, err))\n",
    "                    if err < best_err:\n",
    "                        best_err = err\n",
    "                        best_params = (n_factors, epoch, lr, reg)\n",
    "    print(\"Best params = {0}, with err={1}\".format(best_params, best_err))\n",
    "    return best_params"
   ]
  },
  {
   "cell_type": "code",
   "execution_count": 92,
   "metadata": {
    "collapsed": false,
    "scrolled": true
   },
   "outputs": [
    {
     "name": "stdout",
     "output_type": "stream",
     "text": [
      "factors=100, epochs=20, lr=0.001, reg=0.02, err=0.9184490802328459\n",
      "factors=100, epochs=20, lr=0.001, reg=0.01, err=0.9183701865364304\n",
      "factors=100, epochs=20, lr=0.001, reg=0.001, err=0.9198124673272483\n",
      "factors=100, epochs=20, lr=0.001, reg=0.0001, err=0.9201509299828268\n",
      "factors=100, epochs=20, lr=0.005, reg=0.02, err=0.8795758573122385\n",
      "factors=100, epochs=20, lr=0.005, reg=0.01, err=0.8973673816366518\n",
      "factors=100, epochs=20, lr=0.005, reg=0.001, err=0.9294137311787193\n",
      "factors=100, epochs=20, lr=0.005, reg=0.0001, err=0.9341911792033153\n",
      "factors=100, epochs=20, lr=0.01, reg=0.02, err=0.9018856741475205\n",
      "factors=100, epochs=20, lr=0.01, reg=0.01, err=0.940501470750362\n",
      "factors=100, epochs=20, lr=0.01, reg=0.001, err=0.9978890017855114\n",
      "factors=100, epochs=20, lr=0.01, reg=0.0001, err=1.0057402883851339\n",
      "factors=100, epochs=30, lr=0.001, reg=0.02, err=0.9126205410452419\n",
      "factors=100, epochs=30, lr=0.001, reg=0.01, err=0.9135481181104292\n",
      "factors=100, epochs=30, lr=0.001, reg=0.001, err=0.9124349551914587\n",
      "factors=100, epochs=30, lr=0.001, reg=0.0001, err=0.9138663277311223\n",
      "factors=100, epochs=30, lr=0.005, reg=0.02, err=0.8904032055414056\n",
      "factors=100, epochs=30, lr=0.005, reg=0.01, err=0.921399255924658\n",
      "factors=100, epochs=30, lr=0.005, reg=0.001, err=0.9683598861167051\n",
      "factors=100, epochs=30, lr=0.005, reg=0.0001, err=0.9775788730545865\n",
      "factors=100, epochs=30, lr=0.01, reg=0.02, err=0.9176075864769317\n",
      "factors=100, epochs=30, lr=0.01, reg=0.01, err=0.96825204483627\n",
      "factors=100, epochs=30, lr=0.01, reg=0.001, err=1.0413708864074873\n",
      "factors=100, epochs=30, lr=0.01, reg=0.0001, err=1.0483878278318621\n",
      "factors=150, epochs=20, lr=0.001, reg=0.02, err=0.9195744760929685\n",
      "factors=150, epochs=20, lr=0.001, reg=0.01, err=0.920391161380799\n",
      "factors=150, epochs=20, lr=0.001, reg=0.001, err=0.9214796928622409\n",
      "factors=150, epochs=20, lr=0.001, reg=0.0001, err=0.9221023537268921\n",
      "factors=150, epochs=20, lr=0.005, reg=0.02, err=0.8829613011403488\n",
      "factors=150, epochs=20, lr=0.005, reg=0.01, err=0.9040181669496637\n",
      "factors=150, epochs=20, lr=0.005, reg=0.001, err=0.9435628737835944\n",
      "factors=150, epochs=20, lr=0.005, reg=0.0001, err=0.9484672838131192\n",
      "factors=150, epochs=20, lr=0.01, reg=0.02, err=0.9018561753195048\n",
      "factors=150, epochs=20, lr=0.01, reg=0.01, err=0.9447747534825607\n",
      "factors=150, epochs=20, lr=0.01, reg=0.001, err=1.0167941959265359\n",
      "factors=150, epochs=20, lr=0.01, reg=0.0001, err=1.0244092326131728\n",
      "factors=150, epochs=30, lr=0.001, reg=0.02, err=0.9129329193116529\n",
      "factors=150, epochs=30, lr=0.001, reg=0.01, err=0.9135881206693316\n",
      "factors=150, epochs=30, lr=0.001, reg=0.001, err=0.9167538213193055\n",
      "factors=150, epochs=30, lr=0.001, reg=0.0001, err=0.915729020155275\n",
      "factors=150, epochs=30, lr=0.005, reg=0.02, err=0.8909243071444707\n",
      "factors=150, epochs=30, lr=0.005, reg=0.01, err=0.9294684337472948\n",
      "factors=150, epochs=30, lr=0.005, reg=0.001, err=0.9875797933764315\n",
      "factors=150, epochs=30, lr=0.005, reg=0.0001, err=0.995087765715463\n",
      "factors=150, epochs=30, lr=0.01, reg=0.02, err=0.9134702733516791\n",
      "factors=150, epochs=30, lr=0.01, reg=0.01, err=0.9655552549006062\n",
      "factors=150, epochs=30, lr=0.01, reg=0.001, err=1.057725939869196\n",
      "factors=150, epochs=30, lr=0.01, reg=0.0001, err=1.0714624928765875\n",
      "factors=200, epochs=20, lr=0.001, reg=0.02, err=0.9208456044222498\n",
      "factors=200, epochs=20, lr=0.001, reg=0.01, err=0.9220270230606054\n",
      "factors=200, epochs=20, lr=0.001, reg=0.001, err=0.9245419732398632\n",
      "factors=200, epochs=20, lr=0.001, reg=0.0001, err=0.9253797938320372\n",
      "factors=200, epochs=20, lr=0.005, reg=0.02, err=0.8852286794715772\n",
      "factors=200, epochs=20, lr=0.005, reg=0.01, err=0.9092802250770002\n",
      "factors=200, epochs=20, lr=0.005, reg=0.001, err=0.952131374423876\n",
      "factors=200, epochs=20, lr=0.005, reg=0.0001, err=0.9573875719136495\n",
      "factors=200, epochs=20, lr=0.01, reg=0.02, err=0.9006790341670888\n",
      "factors=200, epochs=20, lr=0.01, reg=0.01, err=0.9436425052915841\n",
      "factors=200, epochs=20, lr=0.01, reg=0.001, err=1.0186702617412637\n",
      "factors=200, epochs=20, lr=0.01, reg=0.0001, err=1.0318031086435135\n",
      "factors=200, epochs=30, lr=0.001, reg=0.02, err=0.9129167737237106\n",
      "factors=200, epochs=30, lr=0.001, reg=0.01, err=0.915303929040511\n",
      "factors=200, epochs=30, lr=0.001, reg=0.001, err=0.9185895498046971\n",
      "factors=200, epochs=30, lr=0.001, reg=0.0001, err=0.9188773306658026\n",
      "factors=200, epochs=30, lr=0.005, reg=0.02, err=0.8933347268583496\n",
      "factors=200, epochs=30, lr=0.005, reg=0.01, err=0.9303102056121644\n",
      "factors=200, epochs=30, lr=0.005, reg=0.001, err=0.9934734875982204\n",
      "factors=200, epochs=30, lr=0.005, reg=0.0001, err=1.0017247284446085\n",
      "factors=200, epochs=30, lr=0.01, reg=0.02, err=0.9061865165368347\n",
      "factors=200, epochs=30, lr=0.01, reg=0.01, err=0.9559589571711078\n",
      "factors=200, epochs=30, lr=0.01, reg=0.001, err=1.0505835778916188\n",
      "factors=200, epochs=30, lr=0.01, reg=0.0001, err=1.070365841396518\n",
      "Best params = (100, 20, 0.005, 0.02), with err=0.8795758573122385\n"
     ]
    }
   ],
   "source": [
    "n_factors, epochs, lr, reg = tune_parameters()"
   ]
  },
  {
   "cell_type": "markdown",
   "metadata": {},
   "source": [
    "Най-добрите параметри, които откри са default-ните..."
   ]
  },
  {
   "cell_type": "code",
   "execution_count": 58,
   "metadata": {
    "collapsed": true
   },
   "outputs": [],
   "source": [
    "from surprise import SVDpp"
   ]
  },
  {
   "cell_type": "code",
   "execution_count": 60,
   "metadata": {
    "collapsed": false
   },
   "outputs": [
    {
     "name": "stdout",
     "output_type": "stream",
     "text": [
      "RMSE: 0.8657\n"
     ]
    },
    {
     "data": {
      "text/plain": [
       "0.86572917620925005"
      ]
     },
     "execution_count": 60,
     "metadata": {},
     "output_type": "execute_result"
    }
   ],
   "source": [
    "algo = SVDpp(random_state=1)\n",
    "algo.fit(trainset)\n",
    "predictions = algo.test(testset)\n",
    "\n",
    "# Then compute RMSE\n",
    "accuracy.rmse(predictions)"
   ]
  },
  {
   "cell_type": "markdown",
   "metadata": {},
   "source": [
    "Има малко подобрение в грешката, но SVDpp се обучава много по-бавно от SVD(горното отне към 1 час), затова ще търся по-добри параметри на малка част от dataset-a."
   ]
  },
  {
   "cell_type": "code",
   "execution_count": 108,
   "metadata": {
    "collapsed": false
   },
   "outputs": [],
   "source": [
    "reader = Reader(rating_scale=(1, 5))\n",
    "first_10k = ml_df[[\"userId\", \"itemId\", \"rating\"]].head(10000)\n",
    "\n",
    "data_cut = Dataset.load_from_df(first_10k, reader)\n",
    "\n",
    "trainset_cut, testset_cut = train_test_split(data_cut, test_size=.15)"
   ]
  },
  {
   "cell_type": "code",
   "execution_count": 109,
   "metadata": {
    "collapsed": false
   },
   "outputs": [
    {
     "name": "stdout",
     "output_type": "stream",
     "text": [
      "RMSE: 0.9771\n"
     ]
    },
    {
     "data": {
      "text/plain": [
       "0.97714507940502227"
      ]
     },
     "execution_count": 109,
     "metadata": {},
     "output_type": "execute_result"
    }
   ],
   "source": [
    "algo = SVDpp()\n",
    "algo.fit(trainset_cut)\n",
    "predictions = algo.test(testset_cut)\n",
    "\n",
    "# Baseline\n",
    "accuracy.rmse(predictions)"
   ]
  },
  {
   "cell_type": "code",
   "execution_count": 117,
   "metadata": {
    "collapsed": false
   },
   "outputs": [
    {
     "name": "stdout",
     "output_type": "stream",
     "text": [
      "RMSE: 0.9763\n",
      "factors 20, err=0.976313116506056\n",
      "RMSE: 0.9816\n",
      "factors 50, err=0.9816344495818357\n",
      "RMSE: 0.9850\n",
      "factors 100, err=0.985022352891376\n"
     ]
    }
   ],
   "source": [
    "algo20 = SVDpp(n_factors=20, random_state=1)\n",
    "algo50 = SVDpp(n_factors=50, random_state=1)\n",
    "algo100 = SVDpp(n_factors=100, random_state=1)\n",
    "algo20.fit(trainset_cut)\n",
    "algo50.fit(trainset_cut)\n",
    "algo100.fit(trainset_cut)\n",
    "\n",
    "predictions20 = algo20.test(testset_cut)\n",
    "predictions50 = algo50.test(testset_cut)\n",
    "predictions100 = algo100.test(testset_cut)\n",
    "\n",
    "\n",
    "# Baseline\n",
    "print(\"factors 20, err={0}\".format(accuracy.rmse(predictions20)))\n",
    "print(\"factors 50, err={0}\".format(accuracy.rmse(predictions50)))\n",
    "print(\"factors 100, err={0}\".format(accuracy.rmse(predictions100)))"
   ]
  },
  {
   "cell_type": "markdown",
   "metadata": {},
   "source": [
    "Както и при SVD увеличаването на факторите не подобрява резултатите."
   ]
  },
  {
   "cell_type": "code",
   "execution_count": 119,
   "metadata": {
    "collapsed": false
   },
   "outputs": [
    {
     "name": "stdout",
     "output_type": "stream",
     "text": [
      "RMSE: 0.9763\n",
      "epochs 20, err=0.976313116506056\n",
      "RMSE: 1.0110\n",
      "epochs 50, err=1.0109594498218184\n",
      "RMSE: 1.0296\n",
      "epochs 100, err=1.0295813888960965\n"
     ]
    }
   ],
   "source": [
    "algo20 = SVDpp(n_epochs=20, random_state=1)\n",
    "algo50 = SVDpp(n_epochs=50, random_state=1)\n",
    "algo100 = SVDpp(n_epochs=100, random_state=1)\n",
    "algo20.fit(trainset_cut)\n",
    "algo50.fit(trainset_cut)\n",
    "algo100.fit(trainset_cut)\n",
    "\n",
    "predictions20 = algo20.test(testset_cut)\n",
    "predictions50 = algo50.test(testset_cut)\n",
    "predictions100 = algo100.test(testset_cut)\n",
    "\n",
    "\n",
    "# Baseline\n",
    "print(\"epochs 20, err={0}\".format(accuracy.rmse(predictions20)))\n",
    "print(\"epochs 50, err={0}\".format(accuracy.rmse(predictions50)))\n",
    "print(\"epochs 100, err={0}\".format(accuracy.rmse(predictions100)))"
   ]
  },
  {
   "cell_type": "markdown",
   "metadata": {},
   "source": [
    "Изглежда няма нужда от повече от 20 епохи"
   ]
  },
  {
   "cell_type": "code",
   "execution_count": 120,
   "metadata": {
    "collapsed": true
   },
   "outputs": [],
   "source": [
    "def tune_svdpp():\n",
    "    lrs = [0.001, 0.01, 0.0001]\n",
    "    regs = [0.01, 0.001, 0.1]\n",
    "    best_err = math.inf\n",
    "    best_params = ()\n",
    "    for lr in lrs:\n",
    "        for reg in regs:\n",
    "            algo = SVDpp(lr_all=lr, reg_all=reg, random_state=1)\n",
    "            algo.fit(trainset_cut)\n",
    "            pred = algo.test(testset_cut)\n",
    "            err = accuracy.rmse(pred, verbose=False)\n",
    "            print(\"lr={0}, reg={1}, err={2}\".format(lr, reg, err))\n",
    "            if err < best_err:\n",
    "                best_err = err\n",
    "                best_params = (lr, reg)\n",
    "    print(\"Best params = {0}, with err={1}\".format(best_params, best_err))\n",
    "    return best_params"
   ]
  },
  {
   "cell_type": "code",
   "execution_count": 121,
   "metadata": {
    "collapsed": false
   },
   "outputs": [
    {
     "name": "stdout",
     "output_type": "stream",
     "text": [
      "lr=0.001, reg=0.01, err=1.0009845099137615\n",
      "lr=0.001, reg=0.001, err=1.0006390285241311\n",
      "lr=0.001, reg=0.1, err=1.0015210593459711\n",
      "lr=0.01, reg=0.01, err=0.9989414684628604\n",
      "lr=0.01, reg=0.001, err=1.0248634359057665\n",
      "lr=0.01, reg=0.1, err=0.969099775881959\n",
      "lr=0.0001, reg=0.01, err=1.0426879454080984\n",
      "lr=0.0001, reg=0.001, err=1.0426032595928842\n",
      "lr=0.0001, reg=0.1, err=1.0435378934543684\n",
      "Best params = (0.01, 0.1), with err=0.969099775881959\n"
     ]
    }
   ],
   "source": [
    "best_params_svdpp = tune_svdpp()"
   ]
  },
  {
   "cell_type": "code",
   "execution_count": 130,
   "metadata": {
    "collapsed": false
   },
   "outputs": [
    {
     "name": "stdout",
     "output_type": "stream",
     "text": [
      "RMSE: 0.9691\n"
     ]
    },
    {
     "data": {
      "text/plain": [
       "0.96909977588195895"
      ]
     },
     "execution_count": 130,
     "metadata": {},
     "output_type": "execute_result"
    }
   ],
   "source": [
    "algo = SVDpp(lr_all=0.01, reg_all=0.1, random_state=1)\n",
    "algo.fit(trainset_cut)\n",
    "predictions = algo.test(testset_cut)\n",
    "\n",
    "\n",
    "accuracy.rmse(predictions)"
   ]
  },
  {
   "cell_type": "markdown",
   "metadata": {},
   "source": [
    "Отново не открих по-добри параметри"
   ]
  },
  {
   "cell_type": "code",
   "execution_count": 137,
   "metadata": {
    "collapsed": false
   },
   "outputs": [
    {
     "name": "stdout",
     "output_type": "stream",
     "text": [
      "RMSE: 0.9691\n"
     ]
    },
    {
     "data": {
      "text/plain": [
       "0.96909977588195895"
      ]
     },
     "execution_count": 137,
     "metadata": {},
     "output_type": "execute_result"
    }
   ],
   "source": [
    "algo = SVDpp(lr_all=0.01, reg_all=0.1, random_state=1)\n",
    "algo.fit(trainset_cut)\n",
    "predictions = algo.test(testset_cut)\n",
    "\n",
    "accuracy.rmse(predictions)"
   ]
  },
  {
   "cell_type": "markdown",
   "metadata": {},
   "source": [
    "Да пуснем на целия dataset."
   ]
  },
  {
   "cell_type": "code",
   "execution_count": 59,
   "metadata": {
    "collapsed": false
   },
   "outputs": [
    {
     "name": "stdout",
     "output_type": "stream",
     "text": [
      "RMSE: 0.8794\n"
     ]
    },
    {
     "data": {
      "text/plain": [
       "0.87943174651128331"
      ]
     },
     "execution_count": 59,
     "metadata": {},
     "output_type": "execute_result"
    }
   ],
   "source": [
    "algo = SVDpp(lr_all=0.01, reg_all=0.1, random_state=1)\n",
    "algo.fit(trainset)\n",
    "predictions = algo.test(testset)\n",
    "accuracy.rmse(predictions)"
   ]
  },
  {
   "cell_type": "markdown",
   "metadata": {},
   "source": [
    "Да видим как се справят алгоритмите и на другия dataset."
   ]
  },
  {
   "cell_type": "code",
   "execution_count": 11,
   "metadata": {
    "collapsed": true
   },
   "outputs": [],
   "source": [
    "data_jester = Dataset.load_builtin('jester')"
   ]
  },
  {
   "cell_type": "code",
   "execution_count": 12,
   "metadata": {
    "collapsed": true
   },
   "outputs": [],
   "source": [
    "jester_df = pd.DataFrame(data_jester.raw_ratings)"
   ]
  },
  {
   "cell_type": "code",
   "execution_count": 13,
   "metadata": {
    "collapsed": false
   },
   "outputs": [],
   "source": [
    "jester_df = jester_df.apply(pd.to_numeric, errors='ignore')"
   ]
  },
  {
   "cell_type": "code",
   "execution_count": 14,
   "metadata": {
    "collapsed": false
   },
   "outputs": [],
   "source": [
    "jester_df.columns = [\"userId\", \"jokeId\", \"rating\", \"missing\"]"
   ]
  },
  {
   "cell_type": "code",
   "execution_count": 17,
   "metadata": {
    "collapsed": false
   },
   "outputs": [
    {
     "data": {
      "text/plain": [
       "1761439"
      ]
     },
     "execution_count": 17,
     "metadata": {},
     "output_type": "execute_result"
    }
   ],
   "source": [
    "len(jester_df)"
   ]
  },
  {
   "cell_type": "markdown",
   "metadata": {},
   "source": [
    "Нямам достатъчно памет за да създам матриците на подобност за целия dataset, затова ще го направя само за част."
   ]
  },
  {
   "cell_type": "code",
   "execution_count": 15,
   "metadata": {
    "collapsed": true
   },
   "outputs": [],
   "source": [
    "jester_df_short = jester_df.head(100000)"
   ]
  },
  {
   "cell_type": "code",
   "execution_count": 16,
   "metadata": {
    "collapsed": true
   },
   "outputs": [],
   "source": [
    "train_data_jester, test_data_jester = cv.train_test_split(jester_df_short, test_size=0.25)"
   ]
  },
  {
   "cell_type": "code",
   "execution_count": 17,
   "metadata": {
    "collapsed": false
   },
   "outputs": [],
   "source": [
    "n_users_js = jester_df_short[\"userId\"].max()\n",
    "#some jokeIds are missing so I use max because there are higher values for ids than there are unique ids\n",
    "n_items_js = jester_df_short[\"jokeId\"].max()\n",
    "js_mat_train = build_matrix(n_users_js, n_items_js, train_data_jester)\n",
    "js_mat_test = build_matrix(n_users_js, n_items_js, test_data_jester)"
   ]
  },
  {
   "cell_type": "code",
   "execution_count": 18,
   "metadata": {
    "collapsed": false
   },
   "outputs": [],
   "source": [
    "eps = 1e-10\n",
    "# similarity matrix between every user and every other user\n",
    "user_similarity_cos_js = pairwise_distances(js_mat_train, metric='cosine') + eps\n",
    "#similarity matrix between every item and every other item \n",
    "item_similarity_cos_js = pairwise_distances(js_mat_train.T, metric='cosine') + eps\n",
    "\n",
    "user_similarity_corel_js = pairwise_distances(js_mat_train, metric='correlation') + eps\n",
    "item_similarity_corel_js = pairwise_distances(js_mat_train.T, metric='correlation') + eps"
   ]
  },
  {
   "cell_type": "code",
   "execution_count": 19,
   "metadata": {
    "collapsed": false
   },
   "outputs": [],
   "source": [
    "predicted_user_cos_js = predict_user_user(js_mat_train + eps, user_similarity_cos_js)\n",
    "predicted_item_cos_js = predict_item_item(js_mat_train + eps, item_similarity_cos_js)"
   ]
  },
  {
   "cell_type": "code",
   "execution_count": 20,
   "metadata": {
    "collapsed": false
   },
   "outputs": [
    {
     "name": "stdout",
     "output_type": "stream",
     "text": [
      "RMSE, cos similarity user-user 9.33419393432578: \n"
     ]
    }
   ],
   "source": [
    "print(\"RMSE, cos similarity user-user {0}: \".format(rmse(predicted_user_cos_js, js_mat_test)))"
   ]
  },
  {
   "cell_type": "code",
   "execution_count": 21,
   "metadata": {
    "collapsed": false
   },
   "outputs": [
    {
     "name": "stdout",
     "output_type": "stream",
     "text": [
      "RMSE, cos similarity item-item 9.478999258713365: \n"
     ]
    }
   ],
   "source": [
    "print(\"RMSE, cos similarity item-item {0}: \".format(rmse(predicted_item_cos_js, js_mat_test)))"
   ]
  },
  {
   "cell_type": "code",
   "execution_count": 22,
   "metadata": {
    "collapsed": false
   },
   "outputs": [],
   "source": [
    "predicted_user_corel_js = predict_user_user(js_mat_train + eps, user_similarity_corel_js)\n",
    "predicted_item_corel_js = predict_item_item(js_mat_train + eps, item_similarity_corel_js)"
   ]
  },
  {
   "cell_type": "code",
   "execution_count": 23,
   "metadata": {
    "collapsed": false
   },
   "outputs": [
    {
     "name": "stdout",
     "output_type": "stream",
     "text": [
      "RMSE, corel similarity user-user 13.446862646977548: \n"
     ]
    }
   ],
   "source": [
    "print(\"RMSE, corel similarity user-user {0}: \".format(rmse(predicted_user_corel_js, js_mat_test)))"
   ]
  },
  {
   "cell_type": "code",
   "execution_count": 24,
   "metadata": {
    "collapsed": false
   },
   "outputs": [
    {
     "name": "stdout",
     "output_type": "stream",
     "text": [
      "RMSE, corel similarity item-item 13.446862646977548: \n"
     ]
    }
   ],
   "source": [
    "print(\"RMSE, corel similarity item-item {0}: \".format(rmse(predicted_item_corel_js, js_mat_test)))"
   ]
  },
  {
   "cell_type": "code",
   "execution_count": 25,
   "metadata": {
    "collapsed": false
   },
   "outputs": [],
   "source": [
    "predicted_user_cos_js_k = predict_user_user_top_k(js_mat_train + eps, user_similarity_cos_js, 100)"
   ]
  },
  {
   "cell_type": "code",
   "execution_count": 26,
   "metadata": {
    "collapsed": false
   },
   "outputs": [
    {
     "name": "stdout",
     "output_type": "stream",
     "text": [
      "RMSE, cos similarity user-user top 50 9.417927300352863: \n"
     ]
    }
   ],
   "source": [
    "print(\"RMSE, cos similarity user-user top 50 {0}: \".format(rmse(predicted_user_cos_js_k, js_mat_test)))"
   ]
  },
  {
   "cell_type": "markdown",
   "metadata": {},
   "source": [
    "Отново няма много разлика между user-user и top k user-user."
   ]
  },
  {
   "cell_type": "code",
   "execution_count": 44,
   "metadata": {
    "collapsed": true
   },
   "outputs": [],
   "source": [
    "trainset_js, testset_js = train_test_split(data_jester, test_size=.15)"
   ]
  },
  {
   "cell_type": "code",
   "execution_count": 47,
   "metadata": {
    "collapsed": false
   },
   "outputs": [
    {
     "name": "stdout",
     "output_type": "stream",
     "text": [
      "RMSE: 4.5134\n"
     ]
    },
    {
     "data": {
      "text/plain": [
       "4.5133629218012938"
      ]
     },
     "execution_count": 47,
     "metadata": {},
     "output_type": "execute_result"
    }
   ],
   "source": [
    "algo = SVD(random_state=1)\n",
    "algo.fit(trainset_js)\n",
    "predictions = algo.test(testset_js)\n",
    "\n",
    "accuracy.rmse(predictions)"
   ]
  },
  {
   "cell_type": "markdown",
   "metadata": {},
   "source": [
    "SVD се справя доста по-добре."
   ]
  },
  {
   "cell_type": "markdown",
   "metadata": {},
   "source": [
    "#### В заключение:\n",
    "* настройването на параметри отнема много време...(особено за SVD++)\n",
    "* SVD / SVD++ се справиха доста по-добре от стандартните User-User/Item-Item CF методи, което е логично имайки предвид че SGD на практика минимизира RMSE.\n",
    "* При User-User използване на подхода с най-близките к съседа не подобри резултата. Това може би се дължи на това че матрицата е доста sparse, и най-близките съседи са горе-долу толкова близки колкото и останалите съседи.\n",
    "* SVD++ се тренира доста по-бавно от SVD, а разликата в грешката е от рода на (+-0.02)\n",
    "* разликата между косинусова мярка и корелация при User-User е почти никаква при movielens, но при jester косинусовата се справя доста по-добре, при Item-Item резултатите винаги бяха малко по-лоши от колкото при User-User.\n",
    "* Оптимизирането на параметри на subset не винаги се транслира добре върху целия (особено когато разликата в грешката е малка)."
   ]
  }
 ],
 "metadata": {
  "anaconda-cloud": {},
  "kernelspec": {
   "display_name": "Python [conda env:dl]",
   "language": "python",
   "name": "conda-env-dl-py"
  },
  "language_info": {
   "codemirror_mode": {
    "name": "ipython",
    "version": 3
   },
   "file_extension": ".py",
   "mimetype": "text/x-python",
   "name": "python",
   "nbconvert_exporter": "python",
   "pygments_lexer": "ipython3",
   "version": "3.6.2"
  }
 },
 "nbformat": 4,
 "nbformat_minor": 1
}
